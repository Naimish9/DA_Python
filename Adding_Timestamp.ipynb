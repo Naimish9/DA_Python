{
 "cells": [
  {
   "cell_type": "code",
   "execution_count": 10,
   "id": "ec013e44-8d2e-4eaf-9268-2fbb566cdec4",
   "metadata": {},
   "outputs": [],
   "source": [
    "import pandas as pd\n",
    "from datetime import datetime\n",
    "import os\n",
    "import time"
   ]
  },
  {
   "cell_type": "code",
   "execution_count": 11,
   "id": "06b2f8ad-e5e2-48e9-9942-ec67c8dac83e",
   "metadata": {},
   "outputs": [
    {
     "name": "stdout",
     "output_type": "stream",
     "text": [
      "Mon Apr  1 17:54:37 2024\n"
     ]
    }
   ],
   "source": [
    "# Path to the file/directory\n",
    "path = \"/home/nineleaps/Downloads/20240305124003123456_Extract 2.zip\"\n",
    "\n",
    "# Both the variables would contain time\n",
    "# elapsed since EPOCH in float\n",
    "ti_c = os.path.getctime(path)\n",
    "c_ti = time.ctime(ti_c)\n",
    "print(c_ti)"
   ]
  },
  {
   "cell_type": "code",
   "execution_count": 12,
   "id": "6f7b5e22-7b38-4c60-8cc9-21d061d1332a",
   "metadata": {},
   "outputs": [
    {
     "name": "stdout",
     "output_type": "stream",
     "text": [
      "2024-04-01 17:54:37\n"
     ]
    }
   ],
   "source": [
    "# Using the timestamp string to create a \n",
    "# time object/structure\n",
    "t_obj = time.strptime(c_ti)\n",
    "\n",
    "# Transforming the time object to a timestamp \n",
    "# of ISO 8601 format\n",
    "T_stamp = time.strftime(\"%Y-%m-%d %H:%M:%S\", t_obj)\n",
    "print(T_stamp)"
   ]
  },
  {
   "cell_type": "code",
   "execution_count": 15,
   "id": "047000ef-868d-4ade-9c0a-23a75bcced34",
   "metadata": {},
   "outputs": [
    {
     "name": "stdout",
     "output_type": "stream",
     "text": [
      "Load timestamp '2024-04-01 17:54:37' added as a new column to '/home/nineleaps/Downloads/20240305124003123456_Extract.zip/sample2.csv'.\n"
     ]
    }
   ],
   "source": [
    "\n",
    "# Read the existing CSV file\n",
    "existing_csv_file = '/home/nineleaps/Downloads/20240305124003123456_Extract.zip/sample2.csv'\n",
    "df = pd.read_csv(existing_csv_file)\n",
    "\n",
    "# Extract the load timestamp of the file\n",
    "load_timestamp = T_stamp\n",
    "\n",
    "# Add the load timestamp as a new column\n",
    "df['load_timestamp'] = load_timestamp\n",
    "\n",
    "# Write the modified CSV data to a new file\n",
    "new_csv_file = existing_csv_file\n",
    "df.to_csv(new_csv_file, index=False)\n",
    "\n",
    "print(f\"Load timestamp '{load_timestamp}' added as a new column to '{new_csv_file}'.\")\n"
   ]
  },
  {
   "cell_type": "code",
   "execution_count": null,
   "id": "c5442161-5593-4ac0-9b16-e34707c380ca",
   "metadata": {},
   "outputs": [],
   "source": []
  }
 ],
 "metadata": {
  "kernelspec": {
   "display_name": "Python 3 (ipykernel)",
   "language": "python",
   "name": "python3"
  },
  "language_info": {
   "codemirror_mode": {
    "name": "ipython",
    "version": 3
   },
   "file_extension": ".py",
   "mimetype": "text/x-python",
   "name": "python",
   "nbconvert_exporter": "python",
   "pygments_lexer": "ipython3",
   "version": "3.10.12"
  }
 },
 "nbformat": 4,
 "nbformat_minor": 5
}
